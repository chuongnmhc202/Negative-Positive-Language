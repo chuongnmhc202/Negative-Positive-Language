{
 "cells": [
  {
   "cell_type": "code",
   "execution_count": null,
   "id": "afe41fdf",
   "metadata": {},
   "outputs": [],
   "source": [
    "import numpy as np\n",
    "import pandas as pd"
   ]
  },
  {
   "cell_type": "code",
   "execution_count": null,
   "id": "54ffedf4",
   "metadata": {},
   "outputs": [],
   "source": [
    "filename = \"sentence classification.csv\"\n",
    "df = pd.read_csv(filename)\n",
    "print(df.shape)\n",
    "df.head(5)"
   ]
  },
  {
   "cell_type": "code",
   "execution_count": null,
   "id": "51607263",
   "metadata": {},
   "outputs": [],
   "source": [
    "names = list(df.columns)"
   ]
  },
  {
   "cell_type": "code",
   "execution_count": null,
   "id": "893175d7",
   "metadata": {},
   "outputs": [],
   "source": [
    "df1 = df[names[0]]\n",
    "df1 = df1.dropna()\n",
    "print(df1)\n",
    "\n",
    "df2 = df[names[1]]\n",
    "df2 = df1.dropna()\n",
    "print(df2)"
   ]
  },
  {
   "cell_type": "code",
   "execution_count": null,
   "id": "419f5023",
   "metadata": {},
   "outputs": [],
   "source": [
    "print(len(df1))\n",
    "print(len(df2))"
   ]
  },
  {
   "cell_type": "code",
   "execution_count": null,
   "id": "952d6910",
   "metadata": {},
   "outputs": [],
   "source": [
    "print(df1.shape)\n",
    "print(df1.values[0])\n",
    "X = []\n",
    "Y = []"
   ]
  },
  {
   "cell_type": "code",
   "execution_count": null,
   "id": "8ad31bda",
   "metadata": {},
   "outputs": [],
   "source": [
    "for i in range(len(df1)):\n",
    "    X.append(df1.values[i])\n",
    "    Y.append('normal')\n",
    "for i in range(len(df2)):\n",
    "    X.append(df1.values[i])\n",
    "    Y.append('aggressive')\n",
    "for i in range(len(X)):\n",
    "    print(X[i],Y[i])\n",
    "    "
   ]
  },
  {
   "cell_type": "code",
   "execution_count": null,
   "id": "e7c44f9a",
   "metadata": {},
   "outputs": [],
   "source": [
    "from keras.preprocessing.text import Tokenizer\n",
    "t = Tokenizer()\n",
    "t.fit_on_texts(X)"
   ]
  },
  {
   "cell_type": "code",
   "execution_count": null,
   "id": "8d112d23",
   "metadata": {},
   "outputs": [],
   "source": [
    "X1 = t.texts_to_matrix(X,mode='binary')\n",
    "print(X1.shape)\n",
    "print(X1[0])\n",
    "Y = np.array(Y)"
   ]
  },
  {
   "cell_type": "code",
   "execution_count": null,
   "id": "6934d561",
   "metadata": {},
   "outputs": [],
   "source": [
    "from sklearn.model_selecttion import train_test_split\n",
    "\n",
    "X_train, X_test, Y_train, Y_test = train_test_split(X1, Y, random_state = 42,test_size=0.15)\n",
    "print(X_train.shape)\n",
    "print(X_test.shape)\n",
    "print(y_train.shape)\n",
    "print(X_test.shape)"
   ]
  },
  {
   "cell_type": "code",
   "execution_count": null,
   "id": "6ab135cd",
   "metadata": {},
   "outputs": [],
   "source": [
    "from sklearn.linear_model import LogistticRegression\n",
    "\n",
    "model = LogisticRegression()\n",
    "model.fit(X_train,Y_train)"
   ]
  },
  {
   "cell_type": "code",
   "execution_count": null,
   "id": "1033c706",
   "metadata": {},
   "outputs": [],
   "source": [
    "Y_pred = model.predict(X_test)\n",
    "from sklearn.metrics import classification_report\n",
    "print(classification_report(Y_test,Y_pred))"
   ]
  },
  {
   "cell_type": "code",
   "execution_count": null,
   "id": "67e0e92c",
   "metadata": {},
   "outputs": [],
   "source": [
    "question = input()\n",
    "X_input = t.texts_to_matrix([question],mode=\"binary\")\n",
    "\n",
    "Y_output = model.predict(X_input)\n",
    "print(Y_output)"
   ]
  },
  {
   "cell_type": "code",
   "execution_count": null,
   "id": "25ba8c3e",
   "metadata": {},
   "outputs": [],
   "source": [
    "conda install tensorflow"
   ]
  },
  {
   "cell_type": "code",
   "execution_count": null,
   "id": "09f1e433",
   "metadata": {},
   "outputs": [],
   "source": [
    "pip install --ignore-installed --upgrade tensorflow "
   ]
  },
  {
   "cell_type": "code",
   "execution_count": null,
   "id": "af690b0d",
   "metadata": {},
   "outputs": [],
   "source": []
  }
 ],
 "metadata": {
  "kernelspec": {
   "display_name": "Python 3 (ipykernel)",
   "language": "python",
   "name": "python3"
  },
  "language_info": {
   "codemirror_mode": {
    "name": "ipython",
    "version": 3
   },
   "file_extension": ".py",
   "mimetype": "text/x-python",
   "name": "python",
   "nbconvert_exporter": "python",
   "pygments_lexer": "ipython3",
   "version": "3.9.13"
  }
 },
 "nbformat": 4,
 "nbformat_minor": 5
}
